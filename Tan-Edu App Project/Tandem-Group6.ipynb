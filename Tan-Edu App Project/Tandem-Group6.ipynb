{
 "cells": [
  {
   "cell_type": "code",
   "execution_count": 1,
   "metadata": {},
   "outputs": [],
   "source": [
    "# 1- function to register people from low income counties\n",
    "low_income_tandems_dictionary = []\n",
    "\n",
    "\n",
    "def register_low_income_tandem(name, level_of_education, email, subject):\n",
    "    new_tandem = {'name': name, 'level_of_education': level_of_education, 'email': email, 'subject': subject}\n",
    "    low_income_tandems_dictionary.append(new_tandem)"
   ]
  },
  {
   "cell_type": "code",
   "execution_count": 2,
   "metadata": {},
   "outputs": [],
   "source": [
    "# 2- function to register people from high income countries\n",
    "high_income_tandems_dictionary = []\n",
    "\n",
    "\n",
    "def register_high_income_tandem(name, level_of_education, email, subject):\n",
    "    new_tandem = {'name': name, 'level_of_education': level_of_education, 'email': email, 'subject': subject}\n",
    "    high_income_tandems_dictionary.append(new_tandem)\n"
   ]
  },
  {
   "cell_type": "code",
   "execution_count": 3,
   "metadata": {},
   "outputs": [],
   "source": [
    "# 3- function to match low<>high income students/ teachers\n",
    "matches = []\n",
    "def match_low_and_high_income_tandeems():\n",
    "    for low_income_tandem in low_income_tandems_dictionary:\n",
    "        for high_income_tandem in high_income_tandems_dictionary:\n",
    "            if low_income_tandem[\"level_of_education\"] == high_income_tandem[\"level_of_education\"] and low_income_tandem[\"subject\"] == high_income_tandem[\"subject\"]:\n",
    "                print(\"found a match\")\n",
    "                print(\"Low income candidate\")\n",
    "                print(low_income_tandem)\n",
    "                print(\"high income candidate\")\n",
    "                print(high_income_tandem)\n",
    "                valid_match = []\n",
    "                valid_match.append(low_income_tandem)\n",
    "                valid_match.append(high_income_tandem)\n",
    "                matches.append(valid_match)\n"
   ]
  },
  {
   "cell_type": "code",
   "execution_count": 4,
   "metadata": {},
   "outputs": [],
   "source": [
    "# Display some stats:\n",
    "def display_stats():\n",
    "    print(\"Beginning of stats\")\n",
    "    print(\"number of overall participants....\")\n",
    "    print(len(low_income_tandems_dictionary) + len(high_income_tandems_dictionary))\n",
    "    print(\"Number of participants from Low Income Countries\")\n",
    "    print(len(low_income_tandems_dictionary))\n",
    "    print(\"Number of participants from High Income Countries\")\n",
    "    print(len(high_income_tandems_dictionary))\n",
    "    matched = 0\n",
    "    for low_income_tandem in low_income_tandems_dictionary:\n",
    "        for high_income_tandem in high_income_tandems_dictionary:\n",
    "            if low_income_tandem[\"level_of_education\"] == high_income_tandem[\"level_of_education\"] and low_income_tandem[\"subject\"] == high_income_tandem[\"subject\"]:\n",
    "                matched = matched + 1\n",
    "    print(\"Number of matched participants\")\n",
    "    print(matched)\n",
    "    print(\"Number of pending matching participants\")\n",
    "    print(len(low_income_tandems_dictionary) + len(high_income_tandems_dictionary) - matched)"
   ]
  },
  {
   "cell_type": "code",
   "execution_count": 5,
   "metadata": {},
   "outputs": [],
   "source": [
    "# TODO: There is a bug here, check it later\n",
    "def display_matched_by_email(email):\n",
    "    for match in matches:\n",
    "        if match[0][\"email\"] == email or match[1][\"email\"] == email:\n",
    "            print(\"There is a match between the following two email, please contact them\")\n",
    "            print(match[0][\"email\"])\n",
    "            print(\"and\")\n",
    "            print(match[1][\"email\"])\n",
    "            print(\"Over the following subject\")\n",
    "            print(match[0][\"subject\"])\n",
    "            return\n",
    "    print(\"There was no matches found for your email\")"
   ]
  },
  {
   "cell_type": "code",
   "execution_count": 6,
   "metadata": {},
   "outputs": [
    {
     "name": "stdout",
     "output_type": "stream",
     "text": [
      "Welcome to our Tandem Matching Application!\n",
      "Welcome to our Tandem Matching App! Press 0 to submit a Low Income Tandem Partner, 1 submit a High Income Tandem Partner, 2 for displaying stats, 3 to query via email if you have a match and 4 to get a list of all matched candidates...0\n",
      "Please enter your name:  Habiba \n",
      "Enter your level of education (Primary, Preparatory, Secondary): Primary\n",
      "Enter your email: habiba@hotmail.com\n",
      "Enter the subject that you are interested in learning.: (Math, CS, Science, Language,Social,..Math\n",
      "Thank you, your application has been submitted successfully and our algorithm will process it and match it with the approprite candidate! \n",
      "==========================\n",
      "Welcome to our Tandem Matching App! Press 0 to submit a Low Income Tandem Partner, 1 submit a High Income Tandem Partner, 2 for displaying stats, 3 to query via email if you have a match and 4 to get a list of all matched candidates...1\n",
      "Please enter your name:  Marry\n",
      "Enter your level of education that you can support(Primary, Preparatory, Secondary): Primary\n",
      "Enter your email: Marry@hotmail.com\n",
      "Enter the subject that you are interested in teaching...Math\n",
      "Thank you, your application has been submitted successfully and our algorithm will process it and match it with the approprite candidate! \n",
      "==========================\n",
      "Welcome to our Tandem Matching App! Press 0 to submit a Low Income Tandem Partner, 1 submit a High Income Tandem Partner, 2 for displaying stats, 3 to query via email if you have a match and 4 to get a list of all matched candidates...2\n",
      "Beginning of stats\n",
      "number of overall participants....\n",
      "2\n",
      "Number of participants from Low Income Countries\n",
      "1\n",
      "Number of participants from High Income Countries\n",
      "1\n",
      "Number of matched participants\n",
      "1\n",
      "Number of pending matching participants\n",
      "1\n",
      "Welcome to our Tandem Matching App! Press 0 to submit a Low Income Tandem Partner, 1 submit a High Income Tandem Partner, 2 for displaying stats, 3 to query via email if you have a match and 4 to get a list of all matched candidates...4\n",
      "Thank you for visiting our website. Here are the results of the matching algorithm!\n",
      "found a match\n",
      "Low income candidate\n",
      "{'name': 'Habiba ', 'level_of_education': 'Primary', 'email': 'habiba@hotmail.com', 'subject': 'Math'}\n",
      "high income candidate\n",
      "{'name': 'Marry', 'level_of_education': 'Primary', 'email': 'Marry@hotmail.com', 'subject': 'Math'}\n"
     ]
    }
   ],
   "source": [
    "# Press the green button in the gutter to run the script.\n",
    "if __name__ == '__main__':\n",
    "    runtime = True\n",
    "    print(\"Welcome to our Tandem Matching Application!\")\n",
    "    while runtime:\n",
    "        checker = int(input(\"Welcome to our Tandem Matching App! Press 0 to submit a Low Income Tandem Partner, 1 submit a High Income Tandem Partner, 2 for displaying stats, 3 to query via email if you have a match and 4 to get a list of all matched candidates...\"))\n",
    "        if checker == 0:\n",
    "            name = input(\"Please enter your name:  \")\n",
    "            level_of_education = input(\"Enter your level of education (Primary, Preparatory, Secondary): \")\n",
    "            email = input(\"Enter your email: \")\n",
    "            subject = input(\"Enter the subject that you are interested in learning.: (Math, CS, Science, Language,Social,..\")\n",
    "            register_low_income_tandem(name, level_of_education, email, subject)\n",
    "            print(\n",
    "                \"Thank you, your application has been submitted successfully and our algorithm will process it and match it with the approprite candidate! \")\n",
    "            print('==========================')\n",
    "        elif checker == 1:\n",
    "            name = input(\"Please enter your name:  \")\n",
    "            level_of_education = input(\"Enter your level of education that you can support(Primary, Preparatory, Secondary): \")\n",
    "            email = input(\"Enter your email: \")\n",
    "            subject = input(\"Enter the subject that you are interested in teaching...\")\n",
    "            register_high_income_tandem(name, level_of_education, email, subject)\n",
    "            print(\n",
    "                \"Thank you, your application has been submitted successfully and our algorithm will process it and match it with the approprite candidate! \")\n",
    "            print('==========================')\n",
    "\n",
    "        elif checker == 2:\n",
    "            display_stats()\n",
    "\n",
    "        elif checker == 3:\n",
    "            email = input(\"Please enter your email\")\n",
    "            display_matched_by_email(email)\n",
    "\n",
    "        else:\n",
    "            runtime = False\n",
    "            print(\"Thank you for visiting our website. Here are the results of the matching algorithm!\")\n",
    "            match_low_and_high_income_tandeems()"
   ]
  },
  {
   "cell_type": "code",
   "execution_count": null,
   "metadata": {},
   "outputs": [],
   "source": []
  }
 ],
 "metadata": {
  "kernelspec": {
   "display_name": "Python 3",
   "language": "python",
   "name": "python3"
  },
  "language_info": {
   "codemirror_mode": {
    "name": "ipython",
    "version": 3
   },
   "file_extension": ".py",
   "mimetype": "text/x-python",
   "name": "python",
   "nbconvert_exporter": "python",
   "pygments_lexer": "ipython3",
   "version": "3.6.4"
  }
 },
 "nbformat": 4,
 "nbformat_minor": 2
}
